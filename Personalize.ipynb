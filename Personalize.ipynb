{
 "cells": [
  {
   "cell_type": "markdown",
   "id": "4b340c3d",
   "metadata": {},
   "source": [
    "# Building E-Commerce Recommender\n"
   ]
  },
  {
   "cell_type": "markdown",
   "id": "0de3a909",
   "metadata": {},
   "source": [
    "This notebook we will walk you through the steps to build a Domain dataset group and a recommender that returns product recommendations based on data generated for our fictitious retail store data set. The goal is to recommend products that are relevant based on a particular user."
   ]
  },
  {
   "cell_type": "markdown",
   "id": "313cc0f7",
   "metadata": {},
   "source": [
    "### Importing Libraries"
   ]
  },
  {
   "cell_type": "code",
   "execution_count": 10,
   "id": "44247e42",
   "metadata": {},
   "outputs": [],
   "source": [
    "# Imports\n",
    "import boto3\n",
    "import json\n",
    "import numpy as np\n",
    "import pandas as pd\n",
    "import time\n",
    "import datetime"
   ]
  },
  {
   "cell_type": "markdown",
   "id": "279a2b1c",
   "metadata": {},
   "source": [
    "Validate that the environment can communicate successfully with Amazon Personalize, the lines below do just that.\n",
    "\n"
   ]
  },
  {
   "cell_type": "code",
   "execution_count": 16,
   "id": "89a186c6",
   "metadata": {},
   "outputs": [],
   "source": [
    "# Configure the SDK to Personalize:\n",
    "personalize = boto3.client('personalize')\n",
    "personalize_runtime = boto3.client('personalize-runtime')"
   ]
  },
  {
   "cell_type": "markdown",
   "id": "9d49f327",
   "metadata": {},
   "source": [
    "### Specify an S3 Bucket and Data Output Location"
   ]
  },
  {
   "cell_type": "markdown",
   "id": "a6b0bb03",
   "metadata": {},
   "source": [
    "Amazon Personalize will need an S3 bucket to act as the source of your data. The code bellow will create a bucket with a unique bucket_name.\n",
    "The Amazon S3 bucket needs to be in the same region as the Amazon Personalize resources. Simply define the region as a string below."
   ]
  },
  {
   "cell_type": "code",
   "execution_count": 2,
   "id": "1c5b6ae5",
   "metadata": {},
   "outputs": [
    {
     "name": "stdout",
     "output_type": "stream",
     "text": [
      "bucket_name: mkawtharani-datasets-bucket\n",
      "Bucket already exists. Using bucket mkawtharani-datasets-bucket\n"
     ]
    }
   ],
   "source": [
    "region = \"ap-southeast-1\"  #Specify the region where your bucket will be domiciled\n",
    "\n",
    "s3 = boto3.client('s3')\n",
    "account_id = boto3.client('sts').get_caller_identity().get('Account')\n",
    "bucket_name = 'mkawtharani-datasets-bucket' #Specify your bucket name\n",
    "print('bucket_name:', bucket_name)\n",
    "\n",
    "try: \n",
    "    if region == \"us-east-1\":\n",
    "        s3.create_bucket(Bucket=bucket_name)\n",
    "    else:\n",
    "        s3.create_bucket(\n",
    "            Bucket=bucket_name,\n",
    "            CreateBucketConfiguration={'LocationConstraint': region}\n",
    "            )\n",
    "except:\n",
    "    print(\"Bucket already exists. Using bucket\", bucket_name)"
   ]
  },
  {
   "cell_type": "markdown",
   "id": "774f94f5",
   "metadata": {},
   "source": [
    "### Download and Explore the Dataset"
   ]
  },
  {
   "cell_type": "markdown",
   "id": "0cea7e61",
   "metadata": {},
   "source": [
    "First we need to download the data (training data).<br> \n",
    "In this tutorial we'll use the Purchase history from a retail store dataset. <br>\n",
    "The dataset contains the user id,items id,the interaction between customers and items and the time this interaction took place(Timestamp)."
   ]
  },
  {
   "cell_type": "code",
   "execution_count": 3,
   "id": "38f947e9",
   "metadata": {},
   "outputs": [
    {
     "name": "stdout",
     "output_type": "stream",
     "text": [
      "download: s3://retail-demo-store-us-east-1/csvs/items.csv to ./items.csv\n",
      "download: s3://retail-demo-store-us-east-1/csvs/interactions.csv to ./interactions.csv\n"
     ]
    }
   ],
   "source": [
    "!aws s3 cp s3://retail-demo-store-us-east-1/csvs/items.csv .\n",
    "!aws s3 cp s3://retail-demo-store-us-east-1/csvs/interactions.csv ."
   ]
  },
  {
   "cell_type": "markdown",
   "id": "6d7fe9e2",
   "metadata": {},
   "source": [
    "## Data Exploration "
   ]
  },
  {
   "cell_type": "code",
   "execution_count": 4,
   "id": "dc88f7f6",
   "metadata": {},
   "outputs": [
    {
     "data": {
      "text/html": [
       "<div>\n",
       "<style scoped>\n",
       "    .dataframe tbody tr th:only-of-type {\n",
       "        vertical-align: middle;\n",
       "    }\n",
       "\n",
       "    .dataframe tbody tr th {\n",
       "        vertical-align: top;\n",
       "    }\n",
       "\n",
       "    .dataframe thead th {\n",
       "        text-align: right;\n",
       "    }\n",
       "</style>\n",
       "<table border=\"1\" class=\"dataframe\">\n",
       "  <thead>\n",
       "    <tr style=\"text-align: right;\">\n",
       "      <th></th>\n",
       "      <th>ITEM_ID</th>\n",
       "      <th>USER_ID</th>\n",
       "      <th>EVENT_TYPE</th>\n",
       "      <th>TIMESTAMP</th>\n",
       "      <th>DISCOUNT</th>\n",
       "    </tr>\n",
       "  </thead>\n",
       "  <tbody>\n",
       "    <tr>\n",
       "      <th>0</th>\n",
       "      <td>b93b7b15-9bb3-407c-b80b-517e7c45e090</td>\n",
       "      <td>3156</td>\n",
       "      <td>ProductViewed</td>\n",
       "      <td>1591803788</td>\n",
       "      <td>No</td>\n",
       "    </tr>\n",
       "    <tr>\n",
       "      <th>1</th>\n",
       "      <td>b93b7b15-9bb3-407c-b80b-517e7c45e090</td>\n",
       "      <td>3156</td>\n",
       "      <td>ProductViewed</td>\n",
       "      <td>1591803788</td>\n",
       "      <td>No</td>\n",
       "    </tr>\n",
       "    <tr>\n",
       "      <th>2</th>\n",
       "      <td>8ebed2f4-c0c0-4dc7-9875-1836502f2eb3</td>\n",
       "      <td>332</td>\n",
       "      <td>ProductViewed</td>\n",
       "      <td>1591803812</td>\n",
       "      <td>Yes</td>\n",
       "    </tr>\n",
       "    <tr>\n",
       "      <th>3</th>\n",
       "      <td>8ebed2f4-c0c0-4dc7-9875-1836502f2eb3</td>\n",
       "      <td>332</td>\n",
       "      <td>ProductViewed</td>\n",
       "      <td>1591803812</td>\n",
       "      <td>Yes</td>\n",
       "    </tr>\n",
       "    <tr>\n",
       "      <th>4</th>\n",
       "      <td>6ae04681-0217-46c7-a34c-a3e74c96a1fe</td>\n",
       "      <td>3981</td>\n",
       "      <td>ProductViewed</td>\n",
       "      <td>1591803830</td>\n",
       "      <td>Yes</td>\n",
       "    </tr>\n",
       "    <tr>\n",
       "      <th>...</th>\n",
       "      <td>...</td>\n",
       "      <td>...</td>\n",
       "      <td>...</td>\n",
       "      <td>...</td>\n",
       "      <td>...</td>\n",
       "    </tr>\n",
       "    <tr>\n",
       "      <th>675000</th>\n",
       "      <td>ccaec8f5-b33d-4676-a1b9-bc4b96951ee4</td>\n",
       "      <td>2090</td>\n",
       "      <td>ProductAdded</td>\n",
       "      <td>1598204672</td>\n",
       "      <td>Yes</td>\n",
       "    </tr>\n",
       "    <tr>\n",
       "      <th>675001</th>\n",
       "      <td>ccaec8f5-b33d-4676-a1b9-bc4b96951ee4</td>\n",
       "      <td>2090</td>\n",
       "      <td>CartViewed</td>\n",
       "      <td>1598204675</td>\n",
       "      <td>Yes</td>\n",
       "    </tr>\n",
       "    <tr>\n",
       "      <th>675002</th>\n",
       "      <td>ccaec8f5-b33d-4676-a1b9-bc4b96951ee4</td>\n",
       "      <td>2090</td>\n",
       "      <td>CheckoutStarted</td>\n",
       "      <td>1598204677</td>\n",
       "      <td>Yes</td>\n",
       "    </tr>\n",
       "    <tr>\n",
       "      <th>675003</th>\n",
       "      <td>ccaec8f5-b33d-4676-a1b9-bc4b96951ee4</td>\n",
       "      <td>2090</td>\n",
       "      <td>OrderCompleted</td>\n",
       "      <td>1598204680</td>\n",
       "      <td>Yes</td>\n",
       "    </tr>\n",
       "    <tr>\n",
       "      <th>675004</th>\n",
       "      <td>ccaec8f5-b33d-4676-a1b9-bc4b96951ee4</td>\n",
       "      <td>2090</td>\n",
       "      <td>ProductViewed</td>\n",
       "      <td>1598204680</td>\n",
       "      <td>Yes</td>\n",
       "    </tr>\n",
       "  </tbody>\n",
       "</table>\n",
       "<p>675005 rows × 5 columns</p>\n",
       "</div>"
      ],
      "text/plain": [
       "                                     ITEM_ID  USER_ID       EVENT_TYPE  \\\n",
       "0       b93b7b15-9bb3-407c-b80b-517e7c45e090     3156    ProductViewed   \n",
       "1       b93b7b15-9bb3-407c-b80b-517e7c45e090     3156    ProductViewed   \n",
       "2       8ebed2f4-c0c0-4dc7-9875-1836502f2eb3      332    ProductViewed   \n",
       "3       8ebed2f4-c0c0-4dc7-9875-1836502f2eb3      332    ProductViewed   \n",
       "4       6ae04681-0217-46c7-a34c-a3e74c96a1fe     3981    ProductViewed   \n",
       "...                                      ...      ...              ...   \n",
       "675000  ccaec8f5-b33d-4676-a1b9-bc4b96951ee4     2090     ProductAdded   \n",
       "675001  ccaec8f5-b33d-4676-a1b9-bc4b96951ee4     2090       CartViewed   \n",
       "675002  ccaec8f5-b33d-4676-a1b9-bc4b96951ee4     2090  CheckoutStarted   \n",
       "675003  ccaec8f5-b33d-4676-a1b9-bc4b96951ee4     2090   OrderCompleted   \n",
       "675004  ccaec8f5-b33d-4676-a1b9-bc4b96951ee4     2090    ProductViewed   \n",
       "\n",
       "         TIMESTAMP DISCOUNT  \n",
       "0       1591803788       No  \n",
       "1       1591803788       No  \n",
       "2       1591803812      Yes  \n",
       "3       1591803812      Yes  \n",
       "4       1591803830      Yes  \n",
       "...            ...      ...  \n",
       "675000  1598204672      Yes  \n",
       "675001  1598204675      Yes  \n",
       "675002  1598204677      Yes  \n",
       "675003  1598204680      Yes  \n",
       "675004  1598204680      Yes  \n",
       "\n",
       "[675005 rows x 5 columns]"
      ]
     },
     "execution_count": 4,
     "metadata": {},
     "output_type": "execute_result"
    }
   ],
   "source": [
    "df = pd.read_csv('./interactions.csv')\n",
    "df"
   ]
  },
  {
   "cell_type": "code",
   "execution_count": 5,
   "id": "4168fb45",
   "metadata": {},
   "outputs": [
    {
     "data": {
      "text/plain": [
       "ProductViewed      581901\n",
       "ProductAdded        46552\n",
       "CartViewed          29095\n",
       "CheckoutStarted     11638\n",
       "OrderCompleted       5819\n",
       "Name: EVENT_TYPE, dtype: int64"
      ]
     },
     "execution_count": 5,
     "metadata": {},
     "output_type": "execute_result"
    }
   ],
   "source": [
    "df.EVENT_TYPE.value_counts()"
   ]
  },
  {
   "cell_type": "markdown",
   "id": "8bb1c119",
   "metadata": {},
   "source": [
    "The ECOMMERCE recommenders require to provide specific EVENT_TYPE values in order to understand the context of an interaction, therefore we are going to modify our interactions EVENTYPE column."
   ]
  },
  {
   "cell_type": "code",
   "execution_count": 6,
   "id": "75a9cbdb",
   "metadata": {},
   "outputs": [],
   "source": [
    "def convert_event_type(event_type_in_some_format):\n",
    "    if(event_type_in_some_format == \"ProductViewed\"):\n",
    "        return \"View\"\n",
    "    if(event_type_in_some_format == \"OrderCompleted\"):\n",
    "        return \"Purchase\"\n",
    "    else:\n",
    "        return event_type_in_some_format\n",
    "\n",
    "df['EVENT_TYPE'] = df['EVENT_TYPE'].apply(convert_event_type)"
   ]
  },
  {
   "cell_type": "code",
   "execution_count": 8,
   "id": "fff78552",
   "metadata": {},
   "outputs": [
    {
     "data": {
      "text/plain": [
       "View               581901\n",
       "ProductAdded        46552\n",
       "CartViewed          29095\n",
       "CheckoutStarted     11638\n",
       "Purchase             5819\n",
       "Name: EVENT_TYPE, dtype: int64"
      ]
     },
     "execution_count": 8,
     "metadata": {},
     "output_type": "execute_result"
    }
   ],
   "source": [
    "df.EVENT_TYPE.value_counts()"
   ]
  },
  {
   "cell_type": "code",
   "execution_count": 9,
   "id": "40e0fe04",
   "metadata": {},
   "outputs": [
    {
     "name": "stdout",
     "output_type": "stream",
     "text": [
      "<class 'pandas.core.frame.DataFrame'>\n",
      "RangeIndex: 675005 entries, 0 to 675004\n",
      "Data columns (total 5 columns):\n",
      " #   Column      Non-Null Count   Dtype \n",
      "---  ------      --------------   ----- \n",
      " 0   ITEM_ID     675005 non-null  object\n",
      " 1   USER_ID     675005 non-null  int64 \n",
      " 2   EVENT_TYPE  675005 non-null  object\n",
      " 3   TIMESTAMP   675005 non-null  int64 \n",
      " 4   DISCOUNT    675005 non-null  object\n",
      "dtypes: int64(2), object(3)\n",
      "memory usage: 25.7+ MB\n"
     ]
    }
   ],
   "source": [
    "df.info()"
   ]
  },
  {
   "cell_type": "markdown",
   "id": "2f159339",
   "metadata": {},
   "source": [
    "To be compatible with an Amazon Personalize interactions schema, this dataset requires column headings compatible with Amazon Personalize default column names (read about column names [here](https://docs.aws.amazon.com/personalize/latest/dg/how-it-works-dataset-schema.html)\n",
    " )"
   ]
  },
  {
   "cell_type": "markdown",
   "id": "2880b354",
   "metadata": {},
   "source": [
    "## Data Processing"
   ]
  },
  {
   "cell_type": "markdown",
   "id": "598a30a0",
   "metadata": {},
   "source": [
    "### Drop Columns\n",
    "Some columns in this dataset would not add value to our model and as such need to be dropped from this dataset. Columns such as discount."
   ]
  },
  {
   "cell_type": "code",
   "execution_count": 11,
   "id": "358d7003",
   "metadata": {},
   "outputs": [
    {
     "data": {
      "text/html": [
       "<div>\n",
       "<style scoped>\n",
       "    .dataframe tbody tr th:only-of-type {\n",
       "        vertical-align: middle;\n",
       "    }\n",
       "\n",
       "    .dataframe tbody tr th {\n",
       "        vertical-align: top;\n",
       "    }\n",
       "\n",
       "    .dataframe thead th {\n",
       "        text-align: right;\n",
       "    }\n",
       "</style>\n",
       "<table border=\"1\" class=\"dataframe\">\n",
       "  <thead>\n",
       "    <tr style=\"text-align: right;\">\n",
       "      <th></th>\n",
       "      <th>ITEM_ID</th>\n",
       "      <th>USER_ID</th>\n",
       "      <th>EVENT_TYPE</th>\n",
       "      <th>TIMESTAMP</th>\n",
       "    </tr>\n",
       "  </thead>\n",
       "  <tbody>\n",
       "    <tr>\n",
       "      <th>537102</th>\n",
       "      <td>ece250d1-7d4d-403b-8941-b90441f42705</td>\n",
       "      <td>4301</td>\n",
       "      <td>View</td>\n",
       "      <td>1596896989</td>\n",
       "    </tr>\n",
       "    <tr>\n",
       "      <th>377010</th>\n",
       "      <td>e1c0c67b-4e01-47bd-bad9-db36ab87c4f7</td>\n",
       "      <td>522</td>\n",
       "      <td>View</td>\n",
       "      <td>1595378894</td>\n",
       "    </tr>\n",
       "    <tr>\n",
       "      <th>172134</th>\n",
       "      <td>7aba3399-b868-4dad-a2fd-05c170aa4232</td>\n",
       "      <td>1653</td>\n",
       "      <td>View</td>\n",
       "      <td>1593436116</td>\n",
       "    </tr>\n",
       "    <tr>\n",
       "      <th>634497</th>\n",
       "      <td>a8c62835-0fb8-45a5-9ebd-f324566047dd</td>\n",
       "      <td>3077</td>\n",
       "      <td>View</td>\n",
       "      <td>1597820584</td>\n",
       "    </tr>\n",
       "    <tr>\n",
       "      <th>468672</th>\n",
       "      <td>bb80331b-7da8-4edc-a797-e1d462c14e82</td>\n",
       "      <td>1545</td>\n",
       "      <td>View</td>\n",
       "      <td>1596248095</td>\n",
       "    </tr>\n",
       "    <tr>\n",
       "      <th>408107</th>\n",
       "      <td>c7a27dcc-dbed-4953-b4d4-4d1c3e0a5f40</td>\n",
       "      <td>285</td>\n",
       "      <td>View</td>\n",
       "      <td>1595673769</td>\n",
       "    </tr>\n",
       "    <tr>\n",
       "      <th>171554</th>\n",
       "      <td>ffbf120a-0b8e-41dd-bbe9-5b2a87b0c8c5</td>\n",
       "      <td>1924</td>\n",
       "      <td>View</td>\n",
       "      <td>1593430597</td>\n",
       "    </tr>\n",
       "    <tr>\n",
       "      <th>221885</th>\n",
       "      <td>f995ec8d-237c-4513-8bfa-9aee210f097c</td>\n",
       "      <td>415</td>\n",
       "      <td>View</td>\n",
       "      <td>1593907865</td>\n",
       "    </tr>\n",
       "    <tr>\n",
       "      <th>459439</th>\n",
       "      <td>8a94535e-4638-43ed-ab9a-2ac90849a98b</td>\n",
       "      <td>2666</td>\n",
       "      <td>View</td>\n",
       "      <td>1596160548</td>\n",
       "    </tr>\n",
       "    <tr>\n",
       "      <th>538686</th>\n",
       "      <td>c86e8896-b9e0-4121-a3e4-25dfb435e2f1</td>\n",
       "      <td>4931</td>\n",
       "      <td>View</td>\n",
       "      <td>1596912034</td>\n",
       "    </tr>\n",
       "  </tbody>\n",
       "</table>\n",
       "</div>"
      ],
      "text/plain": [
       "                                     ITEM_ID  USER_ID EVENT_TYPE   TIMESTAMP\n",
       "537102  ece250d1-7d4d-403b-8941-b90441f42705     4301       View  1596896989\n",
       "377010  e1c0c67b-4e01-47bd-bad9-db36ab87c4f7      522       View  1595378894\n",
       "172134  7aba3399-b868-4dad-a2fd-05c170aa4232     1653       View  1593436116\n",
       "634497  a8c62835-0fb8-45a5-9ebd-f324566047dd     3077       View  1597820584\n",
       "468672  bb80331b-7da8-4edc-a797-e1d462c14e82     1545       View  1596248095\n",
       "408107  c7a27dcc-dbed-4953-b4d4-4d1c3e0a5f40      285       View  1595673769\n",
       "171554  ffbf120a-0b8e-41dd-bbe9-5b2a87b0c8c5     1924       View  1593430597\n",
       "221885  f995ec8d-237c-4513-8bfa-9aee210f097c      415       View  1593907865\n",
       "459439  8a94535e-4638-43ed-ab9a-2ac90849a98b     2666       View  1596160548\n",
       "538686  c86e8896-b9e0-4121-a3e4-25dfb435e2f1     4931       View  1596912034"
      ]
     },
     "execution_count": 11,
     "metadata": {},
     "output_type": "execute_result"
    }
   ],
   "source": [
    "test=df.drop(columns=['DISCOUNT'])\n",
    "df=test\n",
    "df.sample(10)"
   ]
  },
  {
   "cell_type": "markdown",
   "id": "656770e5",
   "metadata": {},
   "source": [
    "In the cells below, we will write our cleaned data to a file named \"final_training_data.csv\""
   ]
  },
  {
   "cell_type": "code",
   "execution_count": 12,
   "id": "4b3500d9",
   "metadata": {},
   "outputs": [],
   "source": [
    "df.to_csv(\"cleaned_training_data.csv\")"
   ]
  },
  {
   "cell_type": "markdown",
   "id": "61ecaa26",
   "metadata": {},
   "source": [
    "### Upload to S3\n",
    "Now that our training data is ready for Amazon Personalize,the next step is to upload it to the s3 bucket created earlier\n"
   ]
  },
  {
   "cell_type": "code",
   "execution_count": 13,
   "id": "d2976ffe",
   "metadata": {},
   "outputs": [],
   "source": [
    "interactions_file_path = 'cleaned_training_data.csv'\n",
    "boto3.Session().resource('s3').Bucket(bucket_name).Object(interactions_file_path).upload_file(interactions_file_path)\n",
    "interactions_s3DataPath = \"s3://\"+bucket_name+\"/\"+interactions_file_path"
   ]
  },
  {
   "cell_type": "markdown",
   "id": "e6c6ca9b",
   "metadata": {},
   "source": [
    "### Configure an S3 bucket and an IAM role\n"
   ]
  },
  {
   "cell_type": "markdown",
   "id": "c520605f",
   "metadata": {},
   "source": [
    "So far, we have downloaded, manipulated, and saved the data onto the Amazon EBS instance attached to instance running this Jupyter notebook. However, Amazon Personalize will need an S3 bucket to act as the source of your data, as well as IAM roles for accessing that bucket. Let's set all of that up."
   ]
  },
  {
   "cell_type": "markdown",
   "id": "34c90aea",
   "metadata": {},
   "source": [
    "#### Set the S3 bucket policy\n",
    "Amazon Personalize needs to be able to read the contents of your S3 bucket. So we will add a bucket policy which allows that.<br>\n",
    "Note: We are going to make sure the role we are using to run the code in this notebook has the necessary permissions to modify the S3 bucket policy."
   ]
  },
  {
   "cell_type": "code",
   "execution_count": 14,
   "id": "79d7d905",
   "metadata": {},
   "outputs": [
    {
     "data": {
      "text/plain": [
       "{'ResponseMetadata': {'RequestId': '8D0XXHV4VKGA9KTE',\n",
       "  'HostId': 'zJu3cGiajqWADIK/Ef1e/ltqI1v3PzOVhK8RF53XFJJRWlpDrh5x6KulOmyR8YlTs4oAR/Cy3NM=',\n",
       "  'HTTPStatusCode': 204,\n",
       "  'HTTPHeaders': {'x-amz-id-2': 'zJu3cGiajqWADIK/Ef1e/ltqI1v3PzOVhK8RF53XFJJRWlpDrh5x6KulOmyR8YlTs4oAR/Cy3NM=',\n",
       "   'x-amz-request-id': '8D0XXHV4VKGA9KTE',\n",
       "   'date': 'Mon, 07 Feb 2022 09:15:14 GMT',\n",
       "   'server': 'AmazonS3'},\n",
       "  'RetryAttempts': 0}}"
      ]
     },
     "execution_count": 14,
     "metadata": {},
     "output_type": "execute_result"
    }
   ],
   "source": [
    "s3 = boto3.client(\"s3\")\n",
    "\n",
    "policy = {\n",
    "    \"Version\": \"2012-10-17\",\n",
    "    \"Id\": \"PersonalizeS3BucketAccessPolicy\",\n",
    "    \"Statement\": [\n",
    "        {\n",
    "            \"Sid\": \"PersonalizeS3BucketAccessPolicy\",\n",
    "            \"Effect\": \"Allow\",\n",
    "            \"Principal\": {\n",
    "                \"Service\": \"personalize.amazonaws.com\"\n",
    "            },\n",
    "            \"Action\": [\n",
    "                \"s3:GetObject\",\n",
    "                \"s3:ListBucket\"\n",
    "            ],\n",
    "            \"Resource\": [\n",
    "                \"arn:aws:s3:::{}\".format(bucket_name),\n",
    "                \"arn:aws:s3:::{}/*\".format(bucket_name)\n",
    "            ]\n",
    "        }\n",
    "    ]\n",
    "}\n",
    "\n",
    "s3.put_bucket_policy(Bucket=bucket_name, Policy=json.dumps(policy))"
   ]
  },
  {
   "cell_type": "markdown",
   "id": "6856817c",
   "metadata": {},
   "source": [
    "### Create and Wait for Dataset Group"
   ]
  },
  {
   "cell_type": "markdown",
   "id": "8f137c0d",
   "metadata": {},
   "source": [
    "The largest grouping in Personalize is a Dataset Group, this will isolate the data, event trackers, solutions, and campaigns.<br>\n",
    "Grouping things together that share a common collection of data. Feel free to alter the name below.\n",
    "\n"
   ]
  },
  {
   "cell_type": "markdown",
   "id": "469963e3",
   "metadata": {},
   "source": [
    "### Create Dataset Group"
   ]
  },
  {
   "cell_type": "code",
   "execution_count": 18,
   "id": "ff593956",
   "metadata": {},
   "outputs": [
    {
     "name": "stdout",
     "output_type": "stream",
     "text": [
      "{\n",
      "  \"datasetGroupArn\": \"arn:aws:personalize:ap-southeast-1:563781936732:dataset-group/personalize-ecomemerce-ds-group\",\n",
      "  \"domain\": \"ECOMMERCE\",\n",
      "  \"ResponseMetadata\": {\n",
      "    \"RequestId\": \"56ac0cd7-fd88-41e2-ad0b-e947097f2bb0\",\n",
      "    \"HTTPStatusCode\": 200,\n",
      "    \"HTTPHeaders\": {\n",
      "      \"content-type\": \"application/x-amz-json-1.1\",\n",
      "      \"date\": \"Mon, 07 Feb 2022 09:20:05 GMT\",\n",
      "      \"x-amzn-requestid\": \"56ac0cd7-fd88-41e2-ad0b-e947097f2bb0\",\n",
      "      \"content-length\": \"136\",\n",
      "      \"connection\": \"keep-alive\"\n",
      "    },\n",
      "    \"RetryAttempts\": 0\n",
      "  }\n",
      "}\n"
     ]
    }
   ],
   "source": [
    "response = personalize.create_dataset_group(\n",
    "    name='personalize-ecomemerce-ds-group',\n",
    "    domain='ECOMMERCE'\n",
    ")\n",
    "\n",
    "dataset_group_arn = response['datasetGroupArn']\n",
    "print(json.dumps(response, indent=2))"
   ]
  },
  {
   "cell_type": "markdown",
   "id": "aee19cdc",
   "metadata": {},
   "source": [
    "let's wait for Dataset Group to Have ACTIVE Status Before we can use the Dataset Group in any items below it must be active, execute the cell below and wait for it to show active.\n",
    "\n"
   ]
  },
  {
   "cell_type": "code",
   "execution_count": 19,
   "id": "f12cbfaa",
   "metadata": {},
   "outputs": [
    {
     "name": "stdout",
     "output_type": "stream",
     "text": [
      "DatasetGroup: ACTIVE\n"
     ]
    }
   ],
   "source": [
    "max_time = time.time() + 3*60*60 # 3 hours\n",
    "while time.time() < max_time:\n",
    "    describe_dataset_group_response = personalize.describe_dataset_group(\n",
    "        datasetGroupArn = dataset_group_arn\n",
    "    )\n",
    "    status = describe_dataset_group_response[\"datasetGroup\"][\"status\"]\n",
    "    print(\"DatasetGroup: {}\".format(status))\n",
    "    \n",
    "    if status == \"ACTIVE\" or status == \"CREATE FAILED\":\n",
    "        break\n",
    "        \n",
    "    time.sleep(60)"
   ]
  },
  {
   "cell_type": "markdown",
   "id": "3861df0c",
   "metadata": {},
   "source": [
    "### Create Interactions Schema"
   ]
  },
  {
   "cell_type": "markdown",
   "id": "78b9b858",
   "metadata": {},
   "source": [
    "A core component of how Personalize understands the data comes from the Schema that is defined below.<br>\n",
    "This configuration tells the service how to digest the data provided via the CSV file. Note the columns and types align to what was in the file we have created above.\n",
    "\n"
   ]
  },
  {
   "cell_type": "code",
   "execution_count": 20,
   "id": "f9a1eb2c",
   "metadata": {},
   "outputs": [
    {
     "name": "stdout",
     "output_type": "stream",
     "text": [
      "{\n",
      "  \"schemaArn\": \"arn:aws:personalize:ap-southeast-1:563781936732:schema/personalize-ecommerce-interatn_group\",\n",
      "  \"ResponseMetadata\": {\n",
      "    \"RequestId\": \"acbe6c7b-e150-43d9-b06d-9c8c9f220a8c\",\n",
      "    \"HTTPStatusCode\": 200,\n",
      "    \"HTTPHeaders\": {\n",
      "      \"content-type\": \"application/x-amz-json-1.1\",\n",
      "      \"date\": \"Mon, 07 Feb 2022 09:22:53 GMT\",\n",
      "      \"x-amzn-requestid\": \"acbe6c7b-e150-43d9-b06d-9c8c9f220a8c\",\n",
      "      \"content-length\": \"107\",\n",
      "      \"connection\": \"keep-alive\"\n",
      "    },\n",
      "    \"RetryAttempts\": 0\n",
      "  }\n",
      "}\n"
     ]
    }
   ],
   "source": [
    "interactions_schema = schema = {\n",
    "    \"type\": \"record\",\n",
    "    \"name\": \"Interactions\",\n",
    "    \"namespace\": \"com.amazonaws.personalize.schema\",\n",
    "    \"fields\": [\n",
    "        {\n",
    "            \"name\": \"USER_ID\",\n",
    "            \"type\": \"string\"\n",
    "        },\n",
    "        {\n",
    "            \"name\": \"ITEM_ID\",\n",
    "            \"type\": \"string\"\n",
    "        },\n",
    "        {\n",
    "            \"name\": \"TIMESTAMP\",\n",
    "            \"type\": \"long\"\n",
    "        },\n",
    "        {\n",
    "            \"name\": \"EVENT_TYPE\",\n",
    "            \"type\": \"string\"\n",
    "            \n",
    "        }\n",
    "    ],\n",
    "    \"version\": \"1.0\"\n",
    "}\n",
    "\n",
    "create_schema_response = personalize.create_schema(\n",
    "    name = \"personalize-ecommerce-interatn_group\",\n",
    "    domain = \"ECOMMERCE\",\n",
    "    schema = json.dumps(interactions_schema)\n",
    ")\n",
    "\n",
    "interaction_schema_arn = create_schema_response['schemaArn']\n",
    "print(json.dumps(create_schema_response, indent=2))"
   ]
  },
  {
   "cell_type": "markdown",
   "id": "9272a349",
   "metadata": {},
   "source": [
    "## Create Datasets"
   ]
  },
  {
   "cell_type": "markdown",
   "id": "86b322cb",
   "metadata": {},
   "source": [
    "After the group, the next thing to create is the actual datasets.\n",
    "\n"
   ]
  },
  {
   "cell_type": "markdown",
   "id": "bd174c0b",
   "metadata": {},
   "source": [
    "### Create Interactions Dataset\n"
   ]
  },
  {
   "cell_type": "code",
   "execution_count": 21,
   "id": "2193e797",
   "metadata": {},
   "outputs": [
    {
     "name": "stdout",
     "output_type": "stream",
     "text": [
      "{\n",
      "  \"datasetArn\": \"arn:aws:personalize:ap-southeast-1:563781936732:dataset/personalize-ecomemerce-ds-group/INTERACTIONS\",\n",
      "  \"ResponseMetadata\": {\n",
      "    \"RequestId\": \"36c43b6f-a629-410c-9007-df958e14ba39\",\n",
      "    \"HTTPStatusCode\": 200,\n",
      "    \"HTTPHeaders\": {\n",
      "      \"content-type\": \"application/x-amz-json-1.1\",\n",
      "      \"date\": \"Mon, 07 Feb 2022 09:23:50 GMT\",\n",
      "      \"x-amzn-requestid\": \"36c43b6f-a629-410c-9007-df958e14ba39\",\n",
      "      \"content-length\": \"117\",\n",
      "      \"connection\": \"keep-alive\"\n",
      "    },\n",
      "    \"RetryAttempts\": 0\n",
      "  }\n",
      "}\n"
     ]
    }
   ],
   "source": [
    "dataset_type = \"INTERACTIONS\"\n",
    "\n",
    "create_dataset_response = personalize.create_dataset(\n",
    "    name = \"personalize-ecommerce-demo-interactions\",\n",
    "    datasetType = dataset_type,\n",
    "    datasetGroupArn = dataset_group_arn,\n",
    "    schemaArn = interaction_schema_arn\n",
    ")\n",
    "\n",
    "interactions_dataset_arn = create_dataset_response['datasetArn']\n",
    "print(json.dumps(create_dataset_response, indent=2))"
   ]
  },
  {
   "cell_type": "markdown",
   "id": "4f7eed10",
   "metadata": {},
   "source": [
    "### Create Personalize Role"
   ]
  },
  {
   "cell_type": "markdown",
   "id": "29a23feb",
   "metadata": {},
   "source": [
    "Also Amazon Personalize needs the ability to assume Roles in AWS in order to have the permissions to execute certain tasks, the lines below grant that.<br>\n",
    "Note: Make sure the role we are using to run the code in this notebook has the necessary permissions to create a role"
   ]
  },
  {
   "cell_type": "code",
   "execution_count": 22,
   "id": "72995ac6",
   "metadata": {},
   "outputs": [
    {
     "name": "stdout",
     "output_type": "stream",
     "text": [
      "arn:aws:iam::563781936732:role/PersonalizeRoleEcommerceRecommender\n"
     ]
    }
   ],
   "source": [
    "iam = boto3.client(\"iam\")\n",
    "\n",
    "role_name = \"PersonalizeRoleEcommerceRecommender\"\n",
    "assume_role_policy_document = {\n",
    "    \"Version\": \"2012-10-17\",\n",
    "    \"Statement\": [\n",
    "        {\n",
    "          \"Effect\": \"Allow\",\n",
    "          \"Principal\": {\n",
    "            \"Service\": \"personalize.amazonaws.com\"\n",
    "          },\n",
    "          \"Action\": \"sts:AssumeRole\"\n",
    "        }\n",
    "    ]\n",
    "}\n",
    "\n",
    "create_role_response = iam.create_role(\n",
    "    RoleName = role_name,\n",
    "    AssumeRolePolicyDocument = json.dumps(assume_role_policy_document)\n",
    ")\n",
    "\n",
    "# AmazonPersonalizeFullAccess provides access to any S3 bucket with a name that includes \"personalize\" or \"Personalize\" \n",
    "# if you would like to use a bucket with a different name, please consider creating and attaching a new policy\n",
    "# that provides read access to your bucket or attaching the AmazonS3ReadOnlyAccess policy to the role\n",
    "policy_arn = \"arn:aws:iam::aws:policy/service-role/AmazonPersonalizeFullAccess\"\n",
    "iam.attach_role_policy(\n",
    "    RoleName = role_name,\n",
    "    PolicyArn = policy_arn\n",
    ")\n",
    "\n",
    "# Now add S3 support\n",
    "iam.attach_role_policy(\n",
    "    PolicyArn='arn:aws:iam::aws:policy/AmazonS3FullAccess',\n",
    "    RoleName=role_name\n",
    ")\n",
    "time.sleep(60) # wait for a minute to allow IAM role policy attachment to propagate\n",
    "\n",
    "role_arn = create_role_response[\"Role\"][\"Arn\"]\n",
    "print(role_arn)"
   ]
  },
  {
   "cell_type": "markdown",
   "id": "ef189774",
   "metadata": {},
   "source": [
    "### Import the data"
   ]
  },
  {
   "cell_type": "markdown",
   "id": "7771cbff",
   "metadata": {},
   "source": [
    "Earlier we created the DatasetGroup and Dataset to house the information, now we will execute an import job that will load the data from S3 into Amazon Personalize for usage building our model."
   ]
  },
  {
   "cell_type": "markdown",
   "id": "f86eea99",
   "metadata": {},
   "source": [
    "#### Create Interactions Dataset Import Job"
   ]
  },
  {
   "cell_type": "code",
   "execution_count": 23,
   "id": "e0c8d10c",
   "metadata": {},
   "outputs": [
    {
     "name": "stdout",
     "output_type": "stream",
     "text": [
      "{\n",
      "  \"datasetImportJobArn\": \"arn:aws:personalize:ap-southeast-1:563781936732:dataset-import-job/personalize-ecommerce-demo-interactions\",\n",
      "  \"ResponseMetadata\": {\n",
      "    \"RequestId\": \"a16a7ab2-82a8-4183-a00a-b887ae2110c6\",\n",
      "    \"HTTPStatusCode\": 200,\n",
      "    \"HTTPHeaders\": {\n",
      "      \"content-type\": \"application/x-amz-json-1.1\",\n",
      "      \"date\": \"Mon, 07 Feb 2022 09:35:58 GMT\",\n",
      "      \"x-amzn-requestid\": \"a16a7ab2-82a8-4183-a00a-b887ae2110c6\",\n",
      "      \"content-length\": \"132\",\n",
      "      \"connection\": \"keep-alive\"\n",
      "    },\n",
      "    \"RetryAttempts\": 0\n",
      "  }\n",
      "}\n"
     ]
    }
   ],
   "source": [
    "create_interactions_dataset_import_job_response = personalize.create_dataset_import_job(\n",
    "    jobName = \"personalize-ecommerce-demo-interactions\",\n",
    "    datasetArn = interactions_dataset_arn,\n",
    "    dataSource = {\n",
    "        \"dataLocation\": \"s3://{}/{}\".format(bucket_name, interactions_file_path)\n",
    "    },\n",
    "    roleArn = role_arn\n",
    ")\n",
    "\n",
    "dataset_interactions_import_job_arn = create_interactions_dataset_import_job_response['datasetImportJobArn']\n",
    "print(json.dumps(create_interactions_dataset_import_job_response, indent=2))"
   ]
  },
  {
   "cell_type": "markdown",
   "id": "f59d961f",
   "metadata": {},
   "source": [
    "Wait for Dataset Import Job to Have ACTIVE Status It can take a while before the import job completes, please wait until the status is active."
   ]
  },
  {
   "cell_type": "code",
   "execution_count": 24,
   "id": "6c80b496",
   "metadata": {},
   "outputs": [
    {
     "name": "stdout",
     "output_type": "stream",
     "text": [
      "DatasetImportJob: CREATE IN_PROGRESS\n",
      "DatasetImportJob: CREATE IN_PROGRESS\n",
      "DatasetImportJob: CREATE IN_PROGRESS\n",
      "DatasetImportJob: CREATE IN_PROGRESS\n",
      "DatasetImportJob: CREATE IN_PROGRESS\n",
      "DatasetImportJob: ACTIVE\n"
     ]
    }
   ],
   "source": [
    "max_time = time.time() + 3*60*60 # 3 hours\n",
    "while time.time() < max_time:\n",
    "    describe_dataset_import_job_response = personalize.describe_dataset_import_job(\n",
    "        datasetImportJobArn = dataset_interactions_import_job_arn\n",
    "    )\n",
    "    status = describe_dataset_import_job_response[\"datasetImportJob\"]['status']\n",
    "    print(\"DatasetImportJob: {}\".format(status))\n",
    "    \n",
    "    if status == \"ACTIVE\" or status == \"CREATE FAILED\":\n",
    "        break\n",
    "        \n",
    "    time.sleep(60)"
   ]
  },
  {
   "cell_type": "markdown",
   "id": "75f04aea",
   "metadata": {},
   "source": [
    "## Choose a recommender use cases"
   ]
  },
  {
   "cell_type": "markdown",
   "id": "3b0fc48a",
   "metadata": {},
   "source": [
    "Each domain has different use cases. When we create a recommender, we create it for a specific use case, and each use case has different requirements for getting recommendations."
   ]
  },
  {
   "cell_type": "code",
   "execution_count": 25,
   "id": "a2d0cf89",
   "metadata": {},
   "outputs": [
    {
     "name": "stdout",
     "output_type": "stream",
     "text": [
      "[{'name': 'aws-ecomm-customers-who-viewed-x-also-viewed', 'recipeArn': 'arn:aws:personalize:::recipe/aws-ecomm-customers-who-viewed-x-also-viewed', 'status': 'ACTIVE', 'creationDateTime': datetime.datetime(2019, 6, 10, 0, 0, tzinfo=tzlocal()), 'lastUpdatedDateTime': datetime.datetime(2021, 11, 23, 15, 10, 33, 309000, tzinfo=tzlocal()), 'domain': 'ECOMMERCE'}, {'name': 'aws-ecomm-frequently-bought-together', 'recipeArn': 'arn:aws:personalize:::recipe/aws-ecomm-frequently-bought-together', 'status': 'ACTIVE', 'creationDateTime': datetime.datetime(2019, 6, 10, 0, 0, tzinfo=tzlocal()), 'lastUpdatedDateTime': datetime.datetime(2021, 11, 23, 15, 10, 33, 309000, tzinfo=tzlocal()), 'domain': 'ECOMMERCE'}, {'name': 'aws-ecomm-popular-items-by-purchases', 'recipeArn': 'arn:aws:personalize:::recipe/aws-ecomm-popular-items-by-purchases', 'status': 'ACTIVE', 'creationDateTime': datetime.datetime(2019, 6, 10, 0, 0, tzinfo=tzlocal()), 'lastUpdatedDateTime': datetime.datetime(2021, 11, 23, 15, 10, 33, 309000, tzinfo=tzlocal()), 'domain': 'ECOMMERCE'}, {'name': 'aws-ecomm-popular-items-by-views', 'recipeArn': 'arn:aws:personalize:::recipe/aws-ecomm-popular-items-by-views', 'status': 'ACTIVE', 'creationDateTime': datetime.datetime(2019, 6, 10, 0, 0, tzinfo=tzlocal()), 'lastUpdatedDateTime': datetime.datetime(2021, 11, 23, 15, 10, 33, 309000, tzinfo=tzlocal()), 'domain': 'ECOMMERCE'}, {'name': 'aws-ecomm-recommended-for-you', 'recipeArn': 'arn:aws:personalize:::recipe/aws-ecomm-recommended-for-you', 'status': 'ACTIVE', 'creationDateTime': datetime.datetime(2019, 6, 10, 0, 0, tzinfo=tzlocal()), 'lastUpdatedDateTime': datetime.datetime(2021, 11, 23, 15, 10, 33, 309000, tzinfo=tzlocal()), 'domain': 'ECOMMERCE'}]\n"
     ]
    }
   ],
   "source": [
    "available_recipes = personalize.list_recipes(domain='ECOMMERCE') # See a list of recommenders for the domain. \n",
    "print (available_recipes['recipes'])"
   ]
  },
  {
   "cell_type": "markdown",
   "id": "dedf8e95",
   "metadata": {},
   "source": [
    "We are going to create a recommender of the type \"Frequently Bought Together\". This type of recommender offers recommendations for frequently bought together items based on historical user purchases."
   ]
  },
  {
   "cell_type": "code",
   "execution_count": 26,
   "id": "ecfad7d6",
   "metadata": {},
   "outputs": [
    {
     "name": "stdout",
     "output_type": "stream",
     "text": [
      "{\"recommenderArn\": \"arn:aws:personalize:ap-southeast-1:563781936732:recommender/frequently_bought_together_demo\", \"ResponseMetadata\": {\"RequestId\": \"b589524e-cdd3-4a6b-847d-22c3fe6cbc55\", \"HTTPStatusCode\": 200, \"HTTPHeaders\": {\"content-type\": \"application/x-amz-json-1.1\", \"date\": \"Mon, 07 Feb 2022 09:41:34 GMT\", \"x-amzn-requestid\": \"b589524e-cdd3-4a6b-847d-22c3fe6cbc55\", \"content-length\": \"112\", \"connection\": \"keep-alive\"}, \"RetryAttempts\": 0}}\n"
     ]
    }
   ],
   "source": [
    "create_recommender_response = personalize.create_recommender(\n",
    "  name = 'frequently_bought_together',\n",
    "  recipeArn = 'arn:aws:personalize:::recipe/aws-ecomm-frequently-bought-together',\n",
    "  datasetGroupArn = dataset_group_arn\n",
    ")\n",
    "frequently_bought_together_arn = create_recommender_response[\"recommenderArn\"]\n",
    "print (json.dumps(create_recommender_response))"
   ]
  },
  {
   "cell_type": "markdown",
   "id": "c3199b8c",
   "metadata": {},
   "source": [
    "We are going to create a second recommender of the type \"Recommended For You\". This type of recommender offers personalized recommendations for items based on a user that you specify. With this use case, Amazon Personalize automatically filters items the user purchased based on the userId that you specify and 'Purchase' events."
   ]
  },
  {
   "cell_type": "code",
   "execution_count": 27,
   "id": "4abb76ce",
   "metadata": {},
   "outputs": [
    {
     "name": "stdout",
     "output_type": "stream",
     "text": [
      "{\"recommenderArn\": \"arn:aws:personalize:ap-southeast-1:563781936732:recommender/recommended_for_you_demo\", \"ResponseMetadata\": {\"RequestId\": \"edba0783-8b8a-470c-9012-4f5da206eb85\", \"HTTPStatusCode\": 200, \"HTTPHeaders\": {\"content-type\": \"application/x-amz-json-1.1\", \"date\": \"Mon, 07 Feb 2022 09:41:37 GMT\", \"x-amzn-requestid\": \"edba0783-8b8a-470c-9012-4f5da206eb85\", \"content-length\": \"105\", \"connection\": \"keep-alive\"}, \"RetryAttempts\": 0}}\n"
     ]
    }
   ],
   "source": [
    "create_recommender_response = personalize.create_recommender(\n",
    "  name = 'recommended_for_you',\n",
    "  recipeArn = 'arn:aws:personalize:::recipe/aws-ecomm-recommended-for-you',\n",
    "  datasetGroupArn = dataset_group_arn\n",
    ")\n",
    "recommended_for_you_arn = create_recommender_response[\"recommenderArn\"]\n",
    "print (json.dumps(create_recommender_response))"
   ]
  },
  {
   "cell_type": "markdown",
   "id": "4ba0aefc",
   "metadata": {},
   "source": [
    "We wait until the recomenders have finished creating and have status ACTIVE. We check periodically on the status of the recommender\n",
    "\n"
   ]
  },
  {
   "cell_type": "code",
   "execution_count": 28,
   "id": "bc4d1dbb",
   "metadata": {},
   "outputs": [
    {
     "name": "stdout",
     "output_type": "stream",
     "text": [
      "The solution build is still in progress\n",
      "The solution build is still in progress\n",
      "The solution build is still in progress\n",
      "The solution build is still in progress\n",
      "The solution build is still in progress\n",
      "The solution build is still in progress\n",
      "The solution build is still in progress\n",
      "The solution build is still in progress\n",
      "The solution build is still in progress\n",
      "The solution build is still in progress\n",
      "The solution build is still in progress\n",
      "The solution build is still in progress\n",
      "The solution build is still in progress\n",
      "The solution build is still in progress\n",
      "The solution build is still in progress\n",
      "The solution build is still in progress\n",
      "The solution build is still in progress\n",
      "The solution build is still in progress\n",
      "The solution build is still in progress\n",
      "The solution build is still in progress\n",
      "The solution build is still in progress\n",
      "The solution build is still in progress\n",
      "The solution build is still in progress\n",
      "The solution build is still in progress\n",
      "The solution build is still in progress\n",
      "The solution build is still in progress\n",
      "The solution build is still in progress\n",
      "The solution build is still in progress\n",
      "The solution build is still in progress\n",
      "Build succeeded for arn:aws:personalize:ap-southeast-1:563781936732:recommender/frequently_bought_together_demo\n",
      "The solution build is still in progress\n",
      "The solution build is still in progress\n",
      "The solution build is still in progress\n",
      "The solution build is still in progress\n",
      "The solution build is still in progress\n",
      "The solution build is still in progress\n",
      "The solution build is still in progress\n",
      "Build succeeded for arn:aws:personalize:ap-southeast-1:563781936732:recommender/recommended_for_you_demo\n"
     ]
    }
   ],
   "source": [
    "max_time = time.time() + 10*60*60 # 10 hours\n",
    "\n",
    "while time.time() < max_time:\n",
    "\n",
    "    version_response = personalize.describe_recommender(\n",
    "        recommenderArn = frequently_bought_together_arn\n",
    "    )\n",
    "    status = version_response[\"recommender\"][\"status\"]\n",
    "\n",
    "    if status == \"ACTIVE\":\n",
    "        print(\"Build succeeded for {}\".format(frequently_bought_together_arn))\n",
    "        \n",
    "    elif status == \"CREATE FAILED\":\n",
    "        print(\"Build failed for {}\".format(frequently_bought_together_arn))\n",
    "\n",
    "    if status == \"ACTIVE\":\n",
    "        break\n",
    "    else:\n",
    "        print(\"The solution build is still in progress\")\n",
    "        \n",
    "    time.sleep(60)\n",
    "    \n",
    "while time.time() < max_time:\n",
    "\n",
    "    version_response = personalize.describe_recommender(\n",
    "        recommenderArn = recommended_for_you_arn\n",
    "    )\n",
    "    status = version_response[\"recommender\"][\"status\"]\n",
    "\n",
    "    if status == \"ACTIVE\":\n",
    "        print(\"Build succeeded for {}\".format(recommended_for_you_arn))\n",
    "        \n",
    "    elif status == \"CREATE FAILED\":\n",
    "        print(\"Build failed for {}\".format(recommended_for_you_arn))\n",
    "\n",
    "    if status == \"ACTIVE\":\n",
    "        break\n",
    "    else:\n",
    "        print(\"The solution build is still in progress\")\n",
    "        \n",
    "    time.sleep(120)"
   ]
  },
  {
   "cell_type": "markdown",
   "id": "498e7f09",
   "metadata": {},
   "source": [
    "## Getting recommendations with a recommender\n"
   ]
  },
  {
   "cell_type": "markdown",
   "id": "b905d1b2",
   "metadata": {},
   "source": [
    "Now that the recommenders have been trained, let's have a look at the recommendations we can get for our users!"
   ]
  },
  {
   "cell_type": "code",
   "execution_count": 29,
   "id": "85734d09",
   "metadata": {},
   "outputs": [
    {
     "data": {
      "text/html": [
       "<div>\n",
       "<style scoped>\n",
       "    .dataframe tbody tr th:only-of-type {\n",
       "        vertical-align: middle;\n",
       "    }\n",
       "\n",
       "    .dataframe tbody tr th {\n",
       "        vertical-align: top;\n",
       "    }\n",
       "\n",
       "    .dataframe thead th {\n",
       "        text-align: right;\n",
       "    }\n",
       "</style>\n",
       "<table border=\"1\" class=\"dataframe\">\n",
       "  <thead>\n",
       "    <tr style=\"text-align: right;\">\n",
       "      <th></th>\n",
       "      <th>ITEM_ID</th>\n",
       "      <th>CATEGORY</th>\n",
       "      <th>STYLE</th>\n",
       "      <th>DESCRIPTION</th>\n",
       "    </tr>\n",
       "  </thead>\n",
       "  <tbody>\n",
       "    <tr>\n",
       "      <th>957</th>\n",
       "      <td>f9031c60-0201-4e0a-a146-8fbecf6b9e9a</td>\n",
       "      <td>furniture</td>\n",
       "      <td>chairs</td>\n",
       "      <td>Cool dark khaki armchair for any room</td>\n",
       "    </tr>\n",
       "    <tr>\n",
       "      <th>1226</th>\n",
       "      <td>e1580149-87c5-4ff4-bb03-482465b67b16</td>\n",
       "      <td>groceries</td>\n",
       "      <td>bakery</td>\n",
       "      <td>Cookie made fresh daily in our kitchens</td>\n",
       "    </tr>\n",
       "    <tr>\n",
       "      <th>271</th>\n",
       "      <td>9b60b9e7-d6ec-4401-a773-7d037f858418</td>\n",
       "      <td>apparel</td>\n",
       "      <td>jacket</td>\n",
       "      <td>Warm all seasons casual jacket for men</td>\n",
       "    </tr>\n",
       "    <tr>\n",
       "      <th>1457</th>\n",
       "      <td>d8bf902d-3dce-453b-975f-cf81d6e4b1a6</td>\n",
       "      <td>homedecor</td>\n",
       "      <td>cushion</td>\n",
       "      <td>This light steel blue square cushion is a must...</td>\n",
       "    </tr>\n",
       "    <tr>\n",
       "      <th>1491</th>\n",
       "      <td>6d9e6bd1-3e50-4311-bd58-7913dcdbce43</td>\n",
       "      <td>homedecor</td>\n",
       "      <td>decorative</td>\n",
       "      <td>This wiker basket is a must-have for your home...</td>\n",
       "    </tr>\n",
       "    <tr>\n",
       "      <th>737</th>\n",
       "      <td>61697f16-9198-4d1a-89a5-e43386c2b759</td>\n",
       "      <td>floral</td>\n",
       "      <td>plant</td>\n",
       "      <td>Drought-resistant indoor plant delivered fresh...</td>\n",
       "    </tr>\n",
       "    <tr>\n",
       "      <th>868</th>\n",
       "      <td>53c51962-3546-4c9c-b88e-fe287c94782f</td>\n",
       "      <td>footwear</td>\n",
       "      <td>formal</td>\n",
       "      <td>Pair of black formal shoes for men</td>\n",
       "    </tr>\n",
       "    <tr>\n",
       "      <th>1892</th>\n",
       "      <td>f7b90f15-74e2-4dd0-a003-93e7965e2266</td>\n",
       "      <td>instruments</td>\n",
       "      <td>strings</td>\n",
       "      <td>This acoustic bass will delight the most deman...</td>\n",
       "    </tr>\n",
       "    <tr>\n",
       "      <th>1555</th>\n",
       "      <td>304cd58e-1e7e-4151-9716-1bb222cb724e</td>\n",
       "      <td>homedecor</td>\n",
       "      <td>lighting</td>\n",
       "      <td>This floor lamp is a must-have for the lightin...</td>\n",
       "    </tr>\n",
       "    <tr>\n",
       "      <th>1570</th>\n",
       "      <td>7b56f6cc-5f6d-41a1-b98c-a128aaff24a7</td>\n",
       "      <td>homedecor</td>\n",
       "      <td>lighting</td>\n",
       "      <td>This hanging lamp is a must-have for the light...</td>\n",
       "    </tr>\n",
       "  </tbody>\n",
       "</table>\n",
       "</div>"
      ],
      "text/plain": [
       "                                   ITEM_ID     CATEGORY       STYLE  \\\n",
       "957   f9031c60-0201-4e0a-a146-8fbecf6b9e9a    furniture      chairs   \n",
       "1226  e1580149-87c5-4ff4-bb03-482465b67b16    groceries      bakery   \n",
       "271   9b60b9e7-d6ec-4401-a773-7d037f858418      apparel      jacket   \n",
       "1457  d8bf902d-3dce-453b-975f-cf81d6e4b1a6    homedecor     cushion   \n",
       "1491  6d9e6bd1-3e50-4311-bd58-7913dcdbce43    homedecor  decorative   \n",
       "737   61697f16-9198-4d1a-89a5-e43386c2b759       floral       plant   \n",
       "868   53c51962-3546-4c9c-b88e-fe287c94782f     footwear      formal   \n",
       "1892  f7b90f15-74e2-4dd0-a003-93e7965e2266  instruments     strings   \n",
       "1555  304cd58e-1e7e-4151-9716-1bb222cb724e    homedecor    lighting   \n",
       "1570  7b56f6cc-5f6d-41a1-b98c-a128aaff24a7    homedecor    lighting   \n",
       "\n",
       "                                            DESCRIPTION  \n",
       "957               Cool dark khaki armchair for any room  \n",
       "1226            Cookie made fresh daily in our kitchens  \n",
       "271              Warm all seasons casual jacket for men  \n",
       "1457  This light steel blue square cushion is a must...  \n",
       "1491  This wiker basket is a must-have for your home...  \n",
       "737   Drought-resistant indoor plant delivered fresh...  \n",
       "868                  Pair of black formal shoes for men  \n",
       "1892  This acoustic bass will delight the most deman...  \n",
       "1555  This floor lamp is a must-have for the lightin...  \n",
       "1570  This hanging lamp is a must-have for the light...  "
      ]
     },
     "execution_count": 29,
     "metadata": {},
     "output_type": "execute_result"
    }
   ],
   "source": [
    "# reading the original data in order to have a dataframe that has both movie_ids \n",
    "# and the corresponding titles to make out recommendations easier to read.\n",
    "items_df = pd.read_csv('./items.csv')\n",
    "items_df.sample(10)"
   ]
  },
  {
   "cell_type": "code",
   "execution_count": 30,
   "id": "370d9905",
   "metadata": {},
   "outputs": [],
   "source": [
    "def get_item_by_id(item_id, item_df):\n",
    "    \"\"\"\n",
    "    This takes in an item_id from a recommendation in string format,\n",
    "    converts it to an int, and then does a lookup in a default or specified\n",
    "    dataframe and returns the item description.\n",
    "    \n",
    "    A really broad try/except clause was added in case anything goes wrong.\n",
    "    \n",
    "    Feel free to add more debugging or filtering here to improve results if\n",
    "    you hit an error.\n",
    "    \"\"\"\n",
    "    try:\n",
    "        return items_df.loc[items_df[\"ITEM_ID\"]==str(item_id)]['DESCRIPTION'].values[0]\n",
    "    except:\n",
    "        print (item_id)\n",
    "        return \"Error obtaining item description\""
   ]
  },
  {
   "cell_type": "markdown",
   "id": "9e169d93",
   "metadata": {},
   "source": [
    "Let us get some recommendations:"
   ]
  },
  {
   "cell_type": "code",
   "execution_count": 31,
   "id": "9a2160ab",
   "metadata": {},
   "outputs": [
    {
     "data": {
      "text/plain": [
       "'Your dog will love this accessory'"
      ]
     },
     "execution_count": 31,
     "metadata": {},
     "output_type": "execute_result"
    }
   ],
   "source": [
    "# use a random valid id for a quick sanity check, modify the line of code bellow to a valid id in your dataset\n",
    "get_item_by_id(\"c72257d4-430b-4eb7-9de3-28396e593381\", items_df)"
   ]
  },
  {
   "cell_type": "code",
   "execution_count": 32,
   "id": "2b1476a7",
   "metadata": {},
   "outputs": [
    {
     "data": {
      "text/html": [
       "<div>\n",
       "<style scoped>\n",
       "    .dataframe tbody tr th:only-of-type {\n",
       "        vertical-align: middle;\n",
       "    }\n",
       "\n",
       "    .dataframe tbody tr th {\n",
       "        vertical-align: top;\n",
       "    }\n",
       "\n",
       "    .dataframe thead th {\n",
       "        text-align: right;\n",
       "    }\n",
       "</style>\n",
       "<table border=\"1\" class=\"dataframe\">\n",
       "  <thead>\n",
       "    <tr style=\"text-align: right;\">\n",
       "      <th></th>\n",
       "      <th>This video camera is perfect for capturing those special moments</th>\n",
       "    </tr>\n",
       "  </thead>\n",
       "  <tbody>\n",
       "    <tr>\n",
       "      <th>0</th>\n",
       "      <td>Slice of delicious pepperoni pizza</td>\n",
       "    </tr>\n",
       "    <tr>\n",
       "      <th>1</th>\n",
       "      <td>The best nachos north of Mexico</td>\n",
       "    </tr>\n",
       "    <tr>\n",
       "      <th>2</th>\n",
       "      <td>Lentils with potatos, carrots and spices; a jo...</td>\n",
       "    </tr>\n",
       "    <tr>\n",
       "      <th>3</th>\n",
       "      <td>Juicy prawns with spicy sauce and rice</td>\n",
       "    </tr>\n",
       "    <tr>\n",
       "      <th>4</th>\n",
       "      <td>16oz fountain soda always hits the spot</td>\n",
       "    </tr>\n",
       "    <tr>\n",
       "      <th>5</th>\n",
       "      <td>Exotic and healthy, grape-vine leaves stuffed ...</td>\n",
       "    </tr>\n",
       "    <tr>\n",
       "      <th>6</th>\n",
       "      <td>The taste of summer and energy</td>\n",
       "    </tr>\n",
       "    <tr>\n",
       "      <th>7</th>\n",
       "      <td>Full of omega oils and taste</td>\n",
       "    </tr>\n",
       "    <tr>\n",
       "      <th>8</th>\n",
       "      <td>A delightful blend of Californian and Oriental...</td>\n",
       "    </tr>\n",
       "    <tr>\n",
       "      <th>9</th>\n",
       "      <td>Made with ginseng and joy</td>\n",
       "    </tr>\n",
       "  </tbody>\n",
       "</table>\n",
       "</div>"
      ],
      "text/plain": [
       "  This video camera is perfect for capturing those special moments\n",
       "0                 Slice of delicious pepperoni pizza              \n",
       "1                    The best nachos north of Mexico              \n",
       "2  Lentils with potatos, carrots and spices; a jo...              \n",
       "3             Juicy prawns with spicy sauce and rice              \n",
       "4            16oz fountain soda always hits the spot              \n",
       "5  Exotic and healthy, grape-vine leaves stuffed ...              \n",
       "6                     The taste of summer and energy              \n",
       "7                       Full of omega oils and taste              \n",
       "8  A delightful blend of Californian and Oriental...              \n",
       "9                          Made with ginseng and joy              "
      ]
     },
     "metadata": {},
     "output_type": "display_data"
    }
   ],
   "source": [
    "# First pick a user\n",
    "test_user_id = \"777\"\n",
    "\n",
    "# Select a random item\n",
    "test_item_id = \"8fbe091c-f73c-4727-8fe7-d27eabd17bea\" # a random item: 8fbe091c-f73c-4727-8fe7-d27eabd17bea\n",
    "\n",
    "# Get recommendations for the user for this item\n",
    "get_recommendations_response = personalize_runtime.get_recommendations(\n",
    "    recommenderArn = frequently_bought_together_arn,\n",
    "    itemId = test_item_id,\n",
    "    numResults = 10\n",
    ")\n",
    "\n",
    "# Build a new dataframe for the recommendations\n",
    "item_list = get_recommendations_response['itemList']\n",
    "recommendation_list = []\n",
    "for item in item_list:\n",
    "    item = get_item_by_id(item['itemId'], items_df)\n",
    "    recommendation_list.append(item)\n",
    "\n",
    "user_recommendations_df = pd.DataFrame(recommendation_list, columns = [get_item_by_id(test_item_id, items_df)])\n",
    "\n",
    "pd.options.display.max_rows =10\n",
    "display(user_recommendations_df)"
   ]
  },
  {
   "cell_type": "markdown",
   "id": "be34aac5",
   "metadata": {},
   "source": [
    "Get recommendations from the recommender returning \"Top picks for you\":"
   ]
  },
  {
   "cell_type": "code",
   "execution_count": 33,
   "id": "be2f6bdd",
   "metadata": {},
   "outputs": [
    {
     "data": {
      "text/html": [
       "<div>\n",
       "<style scoped>\n",
       "    .dataframe tbody tr th:only-of-type {\n",
       "        vertical-align: middle;\n",
       "    }\n",
       "\n",
       "    .dataframe tbody tr th {\n",
       "        vertical-align: top;\n",
       "    }\n",
       "\n",
       "    .dataframe thead th {\n",
       "        text-align: right;\n",
       "    }\n",
       "</style>\n",
       "<table border=\"1\" class=\"dataframe\">\n",
       "  <thead>\n",
       "    <tr style=\"text-align: right;\">\n",
       "      <th></th>\n",
       "      <th>777</th>\n",
       "    </tr>\n",
       "  </thead>\n",
       "  <tbody>\n",
       "    <tr>\n",
       "      <th>0</th>\n",
       "      <td>This rattan basket is a must-have for your hom...</td>\n",
       "    </tr>\n",
       "    <tr>\n",
       "      <th>1</th>\n",
       "      <td>This ceramic vase is a must-have for your home...</td>\n",
       "    </tr>\n",
       "    <tr>\n",
       "      <th>2</th>\n",
       "      <td>This decorative candle is a must-have for the ...</td>\n",
       "    </tr>\n",
       "    <tr>\n",
       "      <th>3</th>\n",
       "      <td>This decorative candle is a must-have for the ...</td>\n",
       "    </tr>\n",
       "    <tr>\n",
       "      <th>4</th>\n",
       "      <td>This accurate pair of headphones is unrivaled ...</td>\n",
       "    </tr>\n",
       "    <tr>\n",
       "      <th>5</th>\n",
       "      <td>This desktop computer is a boon for productivity</td>\n",
       "    </tr>\n",
       "    <tr>\n",
       "      <th>6</th>\n",
       "      <td>Camera for amateurs and professonals</td>\n",
       "    </tr>\n",
       "    <tr>\n",
       "      <th>7</th>\n",
       "      <td>This rattan basket is a must-have for your hom...</td>\n",
       "    </tr>\n",
       "    <tr>\n",
       "      <th>8</th>\n",
       "      <td>This fishing reel is sure to bring success</td>\n",
       "    </tr>\n",
       "    <tr>\n",
       "      <th>9</th>\n",
       "      <td>These high definition speakers are incomparabl...</td>\n",
       "    </tr>\n",
       "    <tr>\n",
       "      <th>10</th>\n",
       "      <td>This frisbee will keep your dog exercised</td>\n",
       "    </tr>\n",
       "    <tr>\n",
       "      <th>11</th>\n",
       "      <td>This keyboard is compatilble with all computers</td>\n",
       "    </tr>\n",
       "    <tr>\n",
       "      <th>12</th>\n",
       "      <td>This LED television delivers a sharp picture</td>\n",
       "    </tr>\n",
       "    <tr>\n",
       "      <th>13</th>\n",
       "      <td>High definition speakers to fill the house wit...</td>\n",
       "    </tr>\n",
       "    <tr>\n",
       "      <th>14</th>\n",
       "      <td>Laptop computer for your computing needs</td>\n",
       "    </tr>\n",
       "    <tr>\n",
       "      <th>15</th>\n",
       "      <td>Outstanding fishing reel for every pole</td>\n",
       "    </tr>\n",
       "    <tr>\n",
       "      <th>16</th>\n",
       "      <td>Authoritative speakers to fill the house with ...</td>\n",
       "    </tr>\n",
       "    <tr>\n",
       "      <th>17</th>\n",
       "      <td>Faultless pair of headphones for listening to ...</td>\n",
       "    </tr>\n",
       "    <tr>\n",
       "      <th>18</th>\n",
       "      <td>This video camera is perfect for capturing tho...</td>\n",
       "    </tr>\n",
       "    <tr>\n",
       "      <th>19</th>\n",
       "      <td>Your pet will love this accessory</td>\n",
       "    </tr>\n",
       "  </tbody>\n",
       "</table>\n",
       "</div>"
      ],
      "text/plain": [
       "                                                  777\n",
       "0   This rattan basket is a must-have for your hom...\n",
       "1   This ceramic vase is a must-have for your home...\n",
       "2   This decorative candle is a must-have for the ...\n",
       "3   This decorative candle is a must-have for the ...\n",
       "4   This accurate pair of headphones is unrivaled ...\n",
       "5    This desktop computer is a boon for productivity\n",
       "6                Camera for amateurs and professonals\n",
       "7   This rattan basket is a must-have for your hom...\n",
       "8          This fishing reel is sure to bring success\n",
       "9   These high definition speakers are incomparabl...\n",
       "10          This frisbee will keep your dog exercised\n",
       "11    This keyboard is compatilble with all computers\n",
       "12       This LED television delivers a sharp picture\n",
       "13  High definition speakers to fill the house wit...\n",
       "14           Laptop computer for your computing needs\n",
       "15            Outstanding fishing reel for every pole\n",
       "16  Authoritative speakers to fill the house with ...\n",
       "17  Faultless pair of headphones for listening to ...\n",
       "18  This video camera is perfect for capturing tho...\n",
       "19                  Your pet will love this accessory"
      ]
     },
     "metadata": {},
     "output_type": "display_data"
    }
   ],
   "source": [
    "# First pick a user\n",
    "test_user_id = \"777\" \n",
    "\n",
    "# Get recommendations for the user\n",
    "get_recommendations_response = personalize_runtime.get_recommendations(\n",
    "    recommenderArn = recommended_for_you_arn,\n",
    "    userId = test_user_id,\n",
    "    numResults = 20\n",
    ")\n",
    "\n",
    "# Build a new dataframe for the recommendations\n",
    "item_list = get_recommendations_response['itemList']\n",
    "recommendation_list = []\n",
    "for item in item_list:\n",
    "    item = get_item_by_id(item['itemId'], items_df)\n",
    "    recommendation_list.append(item)\n",
    "\n",
    "\n",
    "user_recommendations_df = pd.DataFrame(recommendation_list, columns = [test_user_id])\n",
    "\n",
    "pd.options.display.max_rows =20\n",
    "display(user_recommendations_df)"
   ]
  },
  {
   "cell_type": "code",
   "execution_count": 34,
   "id": "548a5cf9",
   "metadata": {},
   "outputs": [
    {
     "data": {
      "text/plain": [
       "[{'itemId': '2a68a810-b819-4d5c-9c13-c43be2eba3c4'},\n",
       " {'itemId': '91b4d3d6-9880-40f9-a8f3-e732c91dbe3c'},\n",
       " {'itemId': '9f50d5db-5054-43e8-97b0-80d5036a6bf7'},\n",
       " {'itemId': '833214f2-cdbc-4fbd-a25f-6f33357b503a'},\n",
       " {'itemId': '23aa70ab-959f-4835-a114-c30ff5e4f974'},\n",
       " {'itemId': '5156955f-dda2-4e19-831e-752c92bd8f85'},\n",
       " {'itemId': '0cb3ab29-b939-4732-b8ac-72ec61a4f950'},\n",
       " {'itemId': '771a0ced-1a1c-45d4-b94c-3d7b2188e48b'},\n",
       " {'itemId': 'cc42e0f4-abaf-445b-b843-54884c4f6845'},\n",
       " {'itemId': '095c73c4-fa7d-4910-ac92-e7289058d9c6'},\n",
       " {'itemId': '7160b264-e3ed-4ac3-9dd7-2c537b00e5ed'},\n",
       " {'itemId': '4b86c44c-547e-4e54-bd16-b96d91875e4a'},\n",
       " {'itemId': '48c9f12f-a9c3-4c71-a537-1c478a0e16e0'},\n",
       " {'itemId': 'e780c3e7-9c9c-4b54-87ad-8bde1b837dd8'},\n",
       " {'itemId': 'b803aff7-6e4b-4beb-8d1d-dc7fe609274d'},\n",
       " {'itemId': '322c0e7a-4ab8-485d-b3c4-234a5962562d'},\n",
       " {'itemId': 'ea84753c-3c7c-4ab4-a60b-b6fa7f191c25'},\n",
       " {'itemId': '3b145528-d5fc-4c2a-b2a5-e119128caa5f'},\n",
       " {'itemId': '52f04147-c46e-452c-8e26-21c089cea285'},\n",
       " {'itemId': 'baae9ca1-2fd5-4161-8eb3-d0c0616e34f6'}]"
      ]
     },
     "execution_count": 34,
     "metadata": {},
     "output_type": "execute_result"
    }
   ],
   "source": [
    "item_list"
   ]
  },
  {
   "cell_type": "markdown",
   "id": "15a2cb3b",
   "metadata": {},
   "source": [
    "## Review"
   ]
  },
  {
   "cell_type": "markdown",
   "id": "f98a3bb3",
   "metadata": {},
   "source": [
    "Using the codes above we have successfully trained a deep learning model to generate item recommendations based on prior user behavior. We have created two recommenders for two foundational use cases. Going forward, we can adapt this code to create other recommenders."
   ]
  },
  {
   "cell_type": "markdown",
   "id": "345ca752",
   "metadata": {},
   "source": [
    "## Cleanup"
   ]
  },
  {
   "cell_type": "markdown",
   "id": "e2118146",
   "metadata": {},
   "source": [
    "After building the model we may want to delete your campaign, solutions, and datasets. The following cells will ensure that we have successfully cleaned up all of the resources we created in this lab.\n",
    "\n"
   ]
  },
  {
   "cell_type": "code",
   "execution_count": null,
   "id": "67fb20cf",
   "metadata": {},
   "outputs": [],
   "source": [
    "# delete recommenders \n",
    "personalize.delete_recommender(recommenderArn=frequently_bought_together_arn)\n",
    "personalize.delete_recommender(recommenderArn=recommended_for_you_arn)\n",
    "time.sleep(180)"
   ]
  },
  {
   "cell_type": "code",
   "execution_count": 54,
   "id": "29d32df9",
   "metadata": {},
   "outputs": [],
   "source": [
    "# delete the interaction dataset\n",
    "personalize.delete_dataset(datasetArn=interactions_dataset_arn)\n",
    "time.sleep(60)"
   ]
  },
  {
   "cell_type": "code",
   "execution_count": 55,
   "id": "856912f3",
   "metadata": {},
   "outputs": [],
   "source": [
    "# delete dataset group \n",
    "personalize.delete_dataset_group(datasetGroupArn=dataset_group_arn)\n",
    "time.sleep(60)"
   ]
  }
 ],
 "metadata": {
  "kernelspec": {
   "display_name": "conda_python3",
   "language": "python",
   "name": "conda_python3"
  },
  "language_info": {
   "codemirror_mode": {
    "name": "ipython",
    "version": 3
   },
   "file_extension": ".py",
   "mimetype": "text/x-python",
   "name": "python",
   "nbconvert_exporter": "python",
   "pygments_lexer": "ipython3",
   "version": "3.6.13"
  }
 },
 "nbformat": 4,
 "nbformat_minor": 5
}
